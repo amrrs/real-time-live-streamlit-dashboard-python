{
 "cells": [
  {
   "cell_type": "code",
   "execution_count": 5,
   "metadata": {},
   "outputs": [
    {
     "name": "stdout",
     "output_type": "stream",
     "text": [
      "Collecting yahoo-finance\n",
      "  Using cached yahoo-finance-1.4.0.tar.gz (8.9 kB)\n",
      "  Preparing metadata (setup.py): started\n",
      "  Preparing metadata (setup.py): finished with status 'done'\n",
      "Requirement already satisfied: pytz in c:\\users\\aek protrader\\appdata\\local\\programs\\python\\python311\\lib\\site-packages (from yahoo-finance) (2022.1)\n",
      "Collecting simplejson\n",
      "  Downloading simplejson-3.17.6.tar.gz (83 kB)\n",
      "     ---------------------------------------- 83.1/83.1 kB 1.6 MB/s eta 0:00:00\n",
      "  Preparing metadata (setup.py): started\n",
      "  Preparing metadata (setup.py): finished with status 'done'\n",
      "Using legacy 'setup.py install' for yahoo-finance, since package 'wheel' is not installed.\n",
      "Using legacy 'setup.py install' for simplejson, since package 'wheel' is not installed.\n",
      "Installing collected packages: simplejson, yahoo-finance\n",
      "  Running setup.py install for simplejson: started\n",
      "  Running setup.py install for simplejson: finished with status 'done'\n",
      "  Running setup.py install for yahoo-finance: started\n",
      "  Running setup.py install for yahoo-finance: finished with status 'done'\n",
      "Successfully installed simplejson-3.17.6 yahoo-finance-1.4.0\n"
     ]
    }
   ],
   "source": [
    "!pip install yahoo-finance"
   ]
  },
  {
   "cell_type": "code",
   "execution_count": 2,
   "metadata": {},
   "outputs": [
    {
     "ename": "ModuleNotFoundError",
     "evalue": "No module named 'javascript'",
     "output_type": "error",
     "traceback": [
      "\u001b[1;31m---------------------------------------------------------------------------\u001b[0m",
      "\u001b[1;31mModuleNotFoundError\u001b[0m                       Traceback (most recent call last)",
      "\u001b[1;32me:\\Project - AI - Strategy Trading of Ultimate Final\\AI - Strategy Trading System #2\\real-time-live-streamlit-dashboard-python\\test run.ipynb Cell 2'\u001b[0m in \u001b[0;36m<module>\u001b[1;34m\u001b[0m\n\u001b[1;32m----> <a href='vscode-notebook-cell:/e%3A/Project%20-%20AI%20-%20Strategy%20Trading%20of%20Ultimate%20Final/AI%20-%20Strategy%20Trading%20System%20%232/real-time-live-streamlit-dashboard-python/test%20run.ipynb#ch0000001?line=0'>1</a>\u001b[0m \u001b[39mimport\u001b[39;00m \u001b[39mjavascript\u001b[39;00m\n",
      "\u001b[1;31mModuleNotFoundError\u001b[0m: No module named 'javascript'"
     ]
    }
   ],
   "source": [
    "import javascript\n"
   ]
  },
  {
   "cell_type": "code",
   "execution_count": null,
   "metadata": {},
   "outputs": [],
   "source": []
  }
 ],
 "metadata": {
  "interpreter": {
   "hash": "8687cd1ec2e220b3823408c44d71f8b41a0d82e4d414ed4c141c0943b4b6994c"
  },
  "kernelspec": {
   "display_name": "Python 3.10.2 64-bit",
   "language": "python",
   "name": "python3"
  },
  "language_info": {
   "codemirror_mode": {
    "name": "ipython",
    "version": 3
   },
   "file_extension": ".py",
   "mimetype": "text/x-python",
   "name": "python",
   "nbconvert_exporter": "python",
   "pygments_lexer": "ipython3",
   "version": "3.10.2"
  },
  "orig_nbformat": 4
 },
 "nbformat": 4,
 "nbformat_minor": 2
}
